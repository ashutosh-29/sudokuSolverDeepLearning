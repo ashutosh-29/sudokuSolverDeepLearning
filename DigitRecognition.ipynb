{
 "cells": [
  {
   "cell_type": "code",
   "execution_count": 1,
   "metadata": {},
   "outputs": [],
   "source": [
    "import numpy as np\n",
    "import cv2\n",
    "import os"
   ]
  },
  {
   "cell_type": "code",
   "execution_count": 2,
   "metadata": {},
   "outputs": [],
   "source": [
    "path='./digitData/'\n",
    "xlis=[]\n",
    "ylis=[]\n",
    "for i in range(10):\n",
    "    for fx in os.listdir(path+str(i)):\n",
    "        if fx.endswith('.png'):\n",
    "            vpath=path+str(i)\n",
    "            vpath=vpath+'/'\n",
    "            dataimg=cv2.imread(vpath+fx)\n",
    "            dataimg=cv2.cvtColor(dataimg,cv2.COLOR_BGR2GRAY)\n",
    "            dataimg=cv2.resize(dataimg,(28,28))\n",
    "            data=np.asarray(dataimg)\n",
    "            data=data.reshape((28,28,1))\n",
    "            xlis.append(data)\n",
    "            ylis.append(i)"
   ]
  },
  {
   "cell_type": "code",
   "execution_count": 3,
   "metadata": {},
   "outputs": [
    {
     "name": "stdout",
     "output_type": "stream",
     "text": [
      "(10181, 28, 28, 1)\n",
      "(10181,)\n"
     ]
    }
   ],
   "source": [
    "xtrain=np.array(xlis)\n",
    "ytrain=np.array(ylis)\n",
    "print(xtrain.shape)\n",
    "print(ytrain.shape)"
   ]
  },
  {
   "cell_type": "code",
   "execution_count": 4,
   "metadata": {},
   "outputs": [],
   "source": [
    "from sklearn.model_selection import train_test_split"
   ]
  },
  {
   "cell_type": "code",
   "execution_count": 5,
   "metadata": {},
   "outputs": [
    {
     "data": {
      "text/plain": [
       "((8144, 28, 28, 1), (2037, 28, 28, 1))"
      ]
     },
     "execution_count": 5,
     "metadata": {},
     "output_type": "execute_result"
    }
   ],
   "source": [
    "xtr,xte,ytr,yte=train_test_split(xtrain,ytrain,test_size=0.2)\n",
    "xtr.shape,xte.shape"
   ]
  },
  {
   "cell_type": "code",
   "execution_count": 6,
   "metadata": {},
   "outputs": [],
   "source": [
    "import matplotlib.pyplot as plt"
   ]
  },
  {
   "cell_type": "code",
   "execution_count": 7,
   "metadata": {},
   "outputs": [
    {
     "name": "stdout",
     "output_type": "stream",
     "text": [
      "3\n"
     ]
    },
    {
     "data": {
      "text/plain": [
       "<matplotlib.image.AxesImage at 0x1cf9d52e280>"
      ]
     },
     "execution_count": 7,
     "metadata": {},
     "output_type": "execute_result"
    },
    {
     "data": {
      "image/png": "[encoded data removed]",
      "text/plain": [
       "<Figure size 432x288 with 1 Axes>"
      ]
     },
     "metadata": {
      "needs_background": "light"
     },
     "output_type": "display_data"
    }
   ],
   "source": [
    "print(yte[2])\n",
    "plt.imshow(xte[2],cmap='gray')"
   ]
  },
  {
   "cell_type": "code",
   "execution_count": 8,
   "metadata": {},
   "outputs": [],
   "source": [
    "xtr=xtr.astype('float32')\n",
    "xte=xte.astype('float32')\n",
    "xtr=xtr/255\n",
    "xte=xte/255\n",
    "from keras.models import Sequential\n",
    "from keras.layers import Dense,Flatten,Conv2D,MaxPooling2D,Dropout"
   ]
  },
  {
   "cell_type": "code",
   "execution_count": 9,
   "metadata": {},
   "outputs": [],
   "source": [
    "model = Sequential()\n",
    "model.add(Conv2D(128, kernel_size=5, activation='relu', input_shape=(28, 28, 1)))\n",
    "model.add(Conv2D(128, kernel_size=5, activation='relu'))\n",
    "model.add(MaxPooling2D((2, 2)))\n",
    "model.add(Dropout(0.5))\n",
    "\n",
    "model.add(Conv2D(64, kernel_size=3, activation='relu'))\n",
    "model.add(Conv2D(64, kernel_size=3, activation='relu'))\n",
    "model.add(MaxPooling2D((2, 2)))\n",
    "model.add(Dropout(0.5))\n",
    "\n",
    "model.add(Flatten())\n",
    "model.add(Dense(256, activation='relu'))\n",
    "model.add(Dropout(0.5))\n",
    "model.add(Dense(32, activation='relu'))\n",
    "model.add(Dense(10,activation='softmax'))"
   ]
  },
  {
   "cell_type": "code",
   "execution_count": 10,
   "metadata": {},
   "outputs": [],
   "source": [
    "model.compile(optimizer='adam',loss='categorical_crossentropy',metrics=['accuracy'])"
   ]
  },
  {
   "cell_type": "code",
   "execution_count": 11,
   "metadata": {},
   "outputs": [],
   "source": [
    "from keras.utils import to_categorical"
   ]
  },
  {
   "cell_type": "code",
   "execution_count": 12,
   "metadata": {},
   "outputs": [],
   "source": [
    "ytr1hot=to_categorical(ytr)\n",
    "yte1hot=to_categorical(yte)"
   ]
  },
  {
   "cell_type": "code",
   "execution_count": 22,
   "metadata": {},
   "outputs": [
    {
     "name": "stdout",
     "output_type": "stream",
     "text": [
      "Epoch 1/10\n",
      "255/255 [==============================] - 86s 339ms/step - loss: 0.0141 - accuracy: 0.9964 - val_loss: 0.0142 - val_accuracy: 0.9966\n",
      "Epoch 2/10\n",
      "255/255 [==============================] - 97s 379ms/step - loss: 0.0325 - accuracy: 0.9925 - val_loss: 0.0200 - val_accuracy: 0.9966\n",
      "Epoch 3/10\n",
      "255/255 [==============================] - 97s 382ms/step - loss: 0.0218 - accuracy: 0.9945 - val_loss: 0.0121 - val_accuracy: 0.9966\n",
      "Epoch 4/10\n",
      "255/255 [==============================] - 98s 385ms/step - loss: 0.0191 - accuracy: 0.9945 - val_loss: 0.0115 - val_accuracy: 0.9971\n",
      "Epoch 5/10\n",
      "255/255 [==============================] - 98s 384ms/step - loss: 0.0261 - accuracy: 0.9941 - val_loss: 0.0193 - val_accuracy: 0.9961\n",
      "Epoch 6/10\n",
      "255/255 [==============================] - 97s 379ms/step - loss: 0.0267 - accuracy: 0.9939 - val_loss: 0.0381 - val_accuracy: 0.9902\n",
      "Epoch 7/10\n",
      "255/255 [==============================] - 94s 370ms/step - loss: 0.0323 - accuracy: 0.9926 - val_loss: 0.0181 - val_accuracy: 0.9961\n",
      "Epoch 8/10\n",
      "255/255 [==============================] - 95s 371ms/step - loss: 0.0142 - accuracy: 0.9959 - val_loss: 0.0216 - val_accuracy: 0.9971\n",
      "Epoch 9/10\n",
      "255/255 [==============================] - 98s 385ms/step - loss: 0.0137 - accuracy: 0.9967 - val_loss: 0.0171 - val_accuracy: 0.9946\n",
      "Epoch 10/10\n",
      "255/255 [==============================] - 93s 366ms/step - loss: 0.0276 - accuracy: 0.9946 - val_loss: 0.0114 - val_accuracy: 0.9975\n"
     ]
    }
   ],
   "source": [
    "history=model.fit(xtr,ytr1hot,epochs=10,validation_data=(xte,yte1hot))"
   ]
  },
  {
   "cell_type": "code",
   "execution_count": 23,
   "metadata": {},
   "outputs": [],
   "source": [
    "model.save('CNNModel.h5')"
   ]
  },
  {
   "cell_type": "code",
   "execution_count": null,
   "metadata": {},
   "outputs": [],
   "source": []
  }
 ],
 "metadata": {
  "kernelspec": {
   "display_name": "Python 3",
   "language": "python",
   "name": "python3"
  },
  "language_info": {
   "codemirror_mode": {
    "name": "ipython",
    "version": 3
   },
   "file_extension": ".py",
   "mimetype": "text/x-python",
   "name": "python",
   "nbconvert_exporter": "python",
   "pygments_lexer": "ipython3",
   "version": "3.8.5"
  }
 },
 "nbformat": 4,
 "nbformat_minor": 4
}
